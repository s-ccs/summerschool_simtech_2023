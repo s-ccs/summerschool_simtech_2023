{
  "cells": [
    {
      "cell_type": "raw",
      "metadata": {},
      "source": [
        "---\n",
        "\n",
        "\n",
        "\n",
        "\n",
        "jupyter: julia-1.9\n",
        "---"
      ],
      "id": "18cb9530"
    },
    {
      "cell_type": "markdown",
      "metadata": {},
      "source": [
        "# Makie.jl\n",
        "\n",
        "## Backends\n",
        "Four backends:\n",
        "1. `CairoMakie` - SVG\n",
        "2. `GLMakie` - 2D/3D/fast interactivity\n",
        "3. `WGLMakie` - Same as GLMakie, but in browser\n",
        "4. `RPRMakie` - experimental raytracing\n",
        "\n",
        "I will use `GLMakie` or `CairoMakie`. To switch use `CairoMakie.activate!()`\n",
        "\n",
        "## Standard plotting commands\n"
      ],
      "id": "d83f21c4"
    },
    {
      "cell_type": "code",
      "metadata": {},
      "source": [
        "f = Figure()\n",
        "x = rand(100)\n",
        "y = rand(100)\n",
        "\n",
        "scatter(f[1,1],x,y)\n",
        "lines(f[1,2],x,y)\n",
        "hist(f[2,1],x)\n",
        "density!(f[2,1],x) # inplace -> add to current plot\n",
        "stem(f[2,2],x)"
      ],
      "id": "811907e9",
      "execution_count": null,
      "outputs": []
    },
    {
      "cell_type": "markdown",
      "metadata": {},
      "source": [
        "## Layouts for scientific figures\n",
        "\n",
        "# Pluto.jl for easy interactivity\n",
        "\n",
        "# Grammar of Graphics\n",
        "\n",
        "The grammar of graphics is a convenient way to build common explorative plots.\n",
        "\n",
        "For example:\n",
        "\n",
        "\n",
        "#### For ggplot enthusiasts:\n",
        "You could use [TidierPlots.jl - a ggplot clone](https://github.com/TidierOrg/TidierPlots.jl)\n",
        "\n",
        "Check out the [../../../../cheatsheets/ggplotAOG.qmd]:\n",
        "\n",
        "## AlgebraOfGraphics.jl\n",
        "\n",
        "### Loading data"
      ],
      "id": "69dda8de"
    },
    {
      "cell_type": "code",
      "metadata": {},
      "source": [
        "using GLMakie # backend\n",
        "using AlgebraOfGraphics\n",
        "using PalmerPenguins, DataFrames  # example dataset\n",
        "\n",
        "penguins = dropmissing(DataFrame(PalmerPenguins.load()))\n",
        "first(penguins, 6)"
      ],
      "id": "334f10aa",
      "execution_count": null,
      "outputs": []
    },
    {
      "cell_type": "markdown",
      "metadata": {},
      "source": [
        "::: callout-note\n",
        "A `tidy dataframe` is a dataframe that follows these three rules:\n",
        "\n",
        "\n",
        "1. Every column is a variable.\n",
        "2. Every row is an observation.\n",
        "3. Every cell is a single value.\n",
        "\n",
        "Tidy data make your visualization life much easier as you will see!\n",
        ":::\n",
        "\n",
        "\n",
        "### AoG basics\n",
        "\n",
        "\n",
        "`data * mapping * visual`\n"
      ],
      "id": "0bfbe711"
    },
    {
      "cell_type": "code",
      "metadata": {},
      "source": [
        "  vis_pen = data(penguins) * mapping(:bill_length_mm, :bill_depth_mm) * visual(Scatter) \n",
        "  draw(vis_pen)"
      ],
      "id": "cc740038",
      "execution_count": null,
      "outputs": []
    },
    {
      "cell_type": "markdown",
      "metadata": {},
      "source": [
        "### Adding color\n"
      ],
      "id": "3fd4693f"
    },
    {
      "cell_type": "code",
      "metadata": {},
      "source": [
        "vis_pencolor = data(penguins) * mapping(:bill_length_mm, :bill_depth_mm, color = :species) * visual(Scatter)\n",
        "draw(vis_pencolor)"
      ],
      "id": "b8e715a3",
      "execution_count": null,
      "outputs": []
    },
    {
      "cell_type": "markdown",
      "metadata": {},
      "source": [
        "But that is a bit redundant, you can shortcut this, by reusing existing mappings / inputs:"
      ],
      "id": "ca61723b"
    },
    {
      "cell_type": "code",
      "metadata": {},
      "source": [
        "vis_pencolor2 = vis_pen * mapping(color=:species)\n",
        "draw(vis_pencolor2)"
      ],
      "id": "84f60a09",
      "execution_count": null,
      "outputs": []
    },
    {
      "cell_type": "markdown",
      "metadata": {},
      "source": [
        "### Why `Algebra`OfGraphics?\n",
        "\n",
        "Follows some algebraic rules of multiplying out sums\n",
        "\n",
        "`data * mapping * (visual(Scatter)+visual(Lines))`\n"
      ],
      "id": "cad8ff41"
    },
    {
      "cell_type": "code",
      "metadata": {},
      "source": [
        "data(penguins) * mapping(:bill_length_mm, :bill_depth_mm) * (visual(Scatter)+visual(Lines)) |> draw"
      ],
      "id": "84fc3a4e",
      "execution_count": null,
      "outputs": []
    },
    {
      "cell_type": "markdown",
      "metadata": {},
      "source": [
        "### Faceting"
      ],
      "id": "1b7f38f7"
    },
    {
      "cell_type": "code",
      "metadata": {},
      "source": [
        "data(penguins) * mapping(:bill_length_mm, :bill_depth_mm)  * mapping(color = :species, col = :sex) |> draw"
      ],
      "id": "90ba7bee",
      "execution_count": null,
      "outputs": []
    },
    {
      "cell_type": "code",
      "metadata": {},
      "source": [
        "data(penguins) * mapping(:bill_length_mm, :bill_depth_mm)  * mapping(color = :species, col = :sex,row=:body_mass_g => x-> x>3500) |> draw"
      ],
      "id": "84d76ff4",
      "execution_count": null,
      "outputs": []
    },
    {
      "cell_type": "markdown",
      "metadata": {},
      "source": [
        "### Linear & Non-linear summaries"
      ],
      "id": "ed061ded"
    },
    {
      "cell_type": "code",
      "metadata": {},
      "source": [
        "data(penguins) * mapping(:bill_length_mm, :bill_depth_mm, color=:species) * (linear() + visual(Scatter)) |> draw"
      ],
      "id": "bfaf33f5",
      "execution_count": null,
      "outputs": []
    },
    {
      "cell_type": "code",
      "metadata": {},
      "source": [
        "data(penguins) * mapping(:bill_length_mm, :bill_depth_mm, color=:species) * (smooth() + visual(Scatter)) |> draw"
      ],
      "id": "00aaa0bd",
      "execution_count": null,
      "outputs": []
    },
    {
      "cell_type": "markdown",
      "metadata": {},
      "source": [
        "# Interactivity\n",
        "\n",
        "With Makie.jl, two ways of interactivity:\n",
        "\n",
        "**Observables** - very general way, a little bit more verbose\n",
        "\n",
        "**Pluto.jl Sliders** - very simple, need to redraw plot everytime^[it is technically possible t combine Pluto with Observables, but it is a bit buggy]  \n"
      ],
      "id": "fb64ae39"
    }
  ],
  "metadata": {
    "kernelspec": {
      "name": "julia-1.8",
      "language": "julia",
      "display_name": "Julia 1.8.3"
    }
  },
  "nbformat": 4,
  "nbformat_minor": 5
}